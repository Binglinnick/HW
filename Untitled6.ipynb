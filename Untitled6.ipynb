{
  "nbformat": 4,
  "nbformat_minor": 0,
  "metadata": {
    "colab": {
      "name": "Untitled6.ipynb",
      "provenance": [],
      "collapsed_sections": [],
      "authorship_tag": "ABX9TyOH2tyeEfytLSnsMNVtT9Ai",
      "include_colab_link": true
    },
    "kernelspec": {
      "name": "python3",
      "display_name": "Python 3"
    },
    "language_info": {
      "name": "python"
    }
  },
  "cells": [
    {
      "cell_type": "markdown",
      "metadata": {
        "id": "view-in-github",
        "colab_type": "text"
      },
      "source": [
        "<a href=\"https://colab.research.google.com/github/Binglinnick/HW/blob/main/Untitled6.ipynb\" target=\"_parent\"><img src=\"https://colab.research.google.com/assets/colab-badge.svg\" alt=\"Open In Colab\"/></a>"
      ]
    },
    {
      "cell_type": "markdown",
      "source": [
        "##**HW1**"
      ],
      "metadata": {
        "id": "Vik6Plf00SI9"
      }
    },
    {
      "cell_type": "markdown",
      "source": [
        "##**1-1**"
      ],
      "metadata": {
        "id": "Hupibu1hz8IK"
      }
    },
    {
      "cell_type": "code",
      "execution_count": null,
      "metadata": {
        "colab": {
          "base_uri": "https://localhost:8080/"
        },
        "id": "pSDiQDzgzKGj",
        "outputId": "705276bb-1260-4fdb-89b1-1871f2fde9e8"
      },
      "outputs": [
        {
          "output_type": "stream",
          "name": "stdout",
          "text": [
            "第一個輸入數字10\n",
            "第二個輸入數字6\n",
            "1.67\n"
          ]
        }
      ],
      "source": [
        "try:\n",
        "    x=int(input(\"第一個輸入數字\"))\n",
        "    y=int(input(\"第二個輸入數字\"))\n",
        "    c=x/y\n",
        "    print(round(c,2))\n",
        "except:\n",
        "    print(\"請輸入正確數字格式\")"
      ]
    },
    {
      "cell_type": "markdown",
      "source": [
        "##**1-2**"
      ],
      "metadata": {
        "id": "VoofpMQyz6OH"
      }
    },
    {
      "cell_type": "code",
      "source": [
        "x=int(input(\"請輸入數字\"))\n",
        "if x%6 == 0 :\n",
        "    print(x,end=\"是六的倍數\")\n",
        "elif x%3 == 0 : \n",
        "    print(x,end=\"是三的倍數\")\n",
        "elif x%2 == 0 :\n",
        "    print(x,end=\"是二的倍數\")    \n"
      ],
      "metadata": {
        "id": "Ychc7N1z0K_L",
        "colab": {
          "base_uri": "https://localhost:8080/"
        },
        "outputId": "c543470f-763e-47e8-d671-ce6816186b08"
      },
      "execution_count": null,
      "outputs": [
        {
          "output_type": "stream",
          "name": "stdout",
          "text": [
            "請輸入數字54\n",
            "54是六的倍數"
          ]
        }
      ]
    },
    {
      "cell_type": "markdown",
      "source": [
        "##**1-3**"
      ],
      "metadata": {
        "id": "iieig9Zj2rco"
      }
    },
    {
      "cell_type": "code",
      "source": [
        "x=int(input(\"請輸入秒數\"))\n",
        "s=x%60\n",
        "m=x//60%60\n",
        "h=x//3600\n",
        "print(h,end=\"時\")\n",
        "print(m,end=\"分\")\n",
        "print(s,end=\"秒\")"
      ],
      "metadata": {
        "id": "NGfxqvAG2q9y",
        "colab": {
          "base_uri": "https://localhost:8080/"
        },
        "outputId": "12bf3d8c-dc6d-4b70-b0be-73e5e5d31c88"
      },
      "execution_count": null,
      "outputs": [
        {
          "output_type": "stream",
          "name": "stdout",
          "text": [
            "請輸入秒數3600\n",
            "1時0分0秒"
          ]
        }
      ]
    },
    {
      "cell_type": "markdown",
      "source": [
        "##**1-4**"
      ],
      "metadata": {
        "id": "BwqlkbqQ22OT"
      }
    },
    {
      "cell_type": "code",
      "source": [
        "x=int(input())\n",
        "i=0\n",
        "while i<x:\n",
        "    i+=1\n",
        "    if i%2==1:\n",
        "        print(i)"
      ],
      "metadata": {
        "id": "R2KiGTA5273j",
        "colab": {
          "base_uri": "https://localhost:8080/"
        },
        "outputId": "2fd6e724-1395-441d-c713-89055f056071"
      },
      "execution_count": null,
      "outputs": [
        {
          "output_type": "stream",
          "name": "stdout",
          "text": [
            "21\n",
            "1\n",
            "3\n",
            "5\n",
            "7\n",
            "9\n",
            "11\n",
            "13\n",
            "15\n",
            "17\n",
            "19\n",
            "21\n"
          ]
        }
      ]
    },
    {
      "cell_type": "markdown",
      "source": [
        "#**HW2**"
      ],
      "metadata": {
        "id": "keQLZ1PR3Ft8"
      }
    },
    {
      "cell_type": "markdown",
      "source": [
        "#**2-1**"
      ],
      "metadata": {
        "id": "LOKtPGcY3GTh"
      }
    },
    {
      "cell_type": "code",
      "source": [
        "x=int(input())\n",
        "k=0\n",
        "for i in range(1,x+1):\n",
        "    k=k+i\n",
        "    if i<x:\n",
        "        print(i,end=\"+\")\n",
        "print(x,end=\"=\")\n",
        "print(k)        "
      ],
      "metadata": {
        "id": "zkjGLP9Y3Q-h",
        "colab": {
          "base_uri": "https://localhost:8080/"
        },
        "outputId": "47562b17-ea15-4c83-f95c-743a903f51b2"
      },
      "execution_count": null,
      "outputs": [
        {
          "output_type": "stream",
          "name": "stdout",
          "text": [
            "32\n",
            "1+2+3+4+5+6+7+8+9+10+11+12+13+14+15+16+17+18+19+20+21+22+23+24+25+26+27+28+29+30+31+32=528\n"
          ]
        }
      ]
    },
    {
      "cell_type": "markdown",
      "source": [
        "#**2-2**"
      ],
      "metadata": {
        "id": "aP4DmqKP3cMI"
      }
    },
    {
      "cell_type": "code",
      "source": [
        "k = input().split()\n",
        "x = input()\n",
        "d=[]\n",
        "for v in k:\n",
        "    if v>=x:\n",
        "        d.append(int(v))\n",
        "print(d)"
      ],
      "metadata": {
        "id": "hHltgZQd3ive"
      },
      "execution_count": null,
      "outputs": []
    },
    {
      "cell_type": "markdown",
      "source": [
        "#**2-3**"
      ],
      "metadata": {
        "id": "xLP2wx0n3nOR"
      }
    },
    {
      "cell_type": "code",
      "source": [
        "k = input().split()\n",
        "h=[]\n",
        "for v in k:\n",
        "    if int(v)%2==0:\n",
        "        h.append(int(v))\n",
        "print(sum(h))\n",
        "        "
      ],
      "metadata": {
        "id": "JNhkNHHL3nq8",
        "colab": {
          "base_uri": "https://localhost:8080/",
          "height": 392
        },
        "outputId": "20f473e5-d7a5-424b-ec90-0f07bc1a4a92"
      },
      "execution_count": null,
      "outputs": [
        {
          "output_type": "error",
          "ename": "KeyboardInterrupt",
          "evalue": "ignored",
          "traceback": [
            "\u001b[0;31m---------------------------------------------------------------------------\u001b[0m",
            "\u001b[0;31mKeyboardInterrupt\u001b[0m                         Traceback (most recent call last)",
            "\u001b[0;32m<ipython-input-8-181abde571d4>\u001b[0m in \u001b[0;36m<module>\u001b[0;34m\u001b[0m\n\u001b[0;32m----> 1\u001b[0;31m \u001b[0mk\u001b[0m \u001b[0;34m=\u001b[0m \u001b[0minput\u001b[0m\u001b[0;34m(\u001b[0m\u001b[0;34m)\u001b[0m\u001b[0;34m.\u001b[0m\u001b[0msplit\u001b[0m\u001b[0;34m(\u001b[0m\u001b[0;34m)\u001b[0m\u001b[0;34m\u001b[0m\u001b[0;34m\u001b[0m\u001b[0m\n\u001b[0m\u001b[1;32m      2\u001b[0m \u001b[0mh\u001b[0m\u001b[0;34m=\u001b[0m\u001b[0;34m[\u001b[0m\u001b[0;34m]\u001b[0m\u001b[0;34m\u001b[0m\u001b[0;34m\u001b[0m\u001b[0m\n\u001b[1;32m      3\u001b[0m \u001b[0;32mfor\u001b[0m \u001b[0mv\u001b[0m \u001b[0;32min\u001b[0m \u001b[0mk\u001b[0m\u001b[0;34m:\u001b[0m\u001b[0;34m\u001b[0m\u001b[0;34m\u001b[0m\u001b[0m\n\u001b[1;32m      4\u001b[0m     \u001b[0;32mif\u001b[0m \u001b[0mint\u001b[0m\u001b[0;34m(\u001b[0m\u001b[0mv\u001b[0m\u001b[0;34m)\u001b[0m\u001b[0;34m%\u001b[0m\u001b[0;36m2\u001b[0m\u001b[0;34m==\u001b[0m\u001b[0;36m0\u001b[0m\u001b[0;34m:\u001b[0m\u001b[0;34m\u001b[0m\u001b[0;34m\u001b[0m\u001b[0m\n\u001b[1;32m      5\u001b[0m         \u001b[0mh\u001b[0m\u001b[0;34m.\u001b[0m\u001b[0mappend\u001b[0m\u001b[0;34m(\u001b[0m\u001b[0mint\u001b[0m\u001b[0;34m(\u001b[0m\u001b[0mv\u001b[0m\u001b[0;34m)\u001b[0m\u001b[0;34m)\u001b[0m\u001b[0;34m\u001b[0m\u001b[0;34m\u001b[0m\u001b[0m\n",
            "\u001b[0;32m/usr/local/lib/python3.7/dist-packages/ipykernel/kernelbase.py\u001b[0m in \u001b[0;36mraw_input\u001b[0;34m(self, prompt)\u001b[0m\n\u001b[1;32m    861\u001b[0m             \u001b[0mself\u001b[0m\u001b[0;34m.\u001b[0m\u001b[0m_parent_ident\u001b[0m\u001b[0;34m,\u001b[0m\u001b[0;34m\u001b[0m\u001b[0;34m\u001b[0m\u001b[0m\n\u001b[1;32m    862\u001b[0m             \u001b[0mself\u001b[0m\u001b[0;34m.\u001b[0m\u001b[0m_parent_header\u001b[0m\u001b[0;34m,\u001b[0m\u001b[0;34m\u001b[0m\u001b[0;34m\u001b[0m\u001b[0m\n\u001b[0;32m--> 863\u001b[0;31m             \u001b[0mpassword\u001b[0m\u001b[0;34m=\u001b[0m\u001b[0;32mFalse\u001b[0m\u001b[0;34m,\u001b[0m\u001b[0;34m\u001b[0m\u001b[0;34m\u001b[0m\u001b[0m\n\u001b[0m\u001b[1;32m    864\u001b[0m         )\n\u001b[1;32m    865\u001b[0m \u001b[0;34m\u001b[0m\u001b[0m\n",
            "\u001b[0;32m/usr/local/lib/python3.7/dist-packages/ipykernel/kernelbase.py\u001b[0m in \u001b[0;36m_input_request\u001b[0;34m(self, prompt, ident, parent, password)\u001b[0m\n\u001b[1;32m    902\u001b[0m             \u001b[0;32mexcept\u001b[0m \u001b[0mKeyboardInterrupt\u001b[0m\u001b[0;34m:\u001b[0m\u001b[0;34m\u001b[0m\u001b[0;34m\u001b[0m\u001b[0m\n\u001b[1;32m    903\u001b[0m                 \u001b[0;31m# re-raise KeyboardInterrupt, to truncate traceback\u001b[0m\u001b[0;34m\u001b[0m\u001b[0;34m\u001b[0m\u001b[0;34m\u001b[0m\u001b[0m\n\u001b[0;32m--> 904\u001b[0;31m                 \u001b[0;32mraise\u001b[0m \u001b[0mKeyboardInterrupt\u001b[0m\u001b[0;34m(\u001b[0m\u001b[0;34m\"Interrupted by user\"\u001b[0m\u001b[0;34m)\u001b[0m \u001b[0;32mfrom\u001b[0m \u001b[0;32mNone\u001b[0m\u001b[0;34m\u001b[0m\u001b[0;34m\u001b[0m\u001b[0m\n\u001b[0m\u001b[1;32m    905\u001b[0m             \u001b[0;32mexcept\u001b[0m \u001b[0mException\u001b[0m \u001b[0;32mas\u001b[0m \u001b[0me\u001b[0m\u001b[0;34m:\u001b[0m\u001b[0;34m\u001b[0m\u001b[0;34m\u001b[0m\u001b[0m\n\u001b[1;32m    906\u001b[0m                 \u001b[0mself\u001b[0m\u001b[0;34m.\u001b[0m\u001b[0mlog\u001b[0m\u001b[0;34m.\u001b[0m\u001b[0mwarning\u001b[0m\u001b[0;34m(\u001b[0m\u001b[0;34m\"Invalid Message:\"\u001b[0m\u001b[0;34m,\u001b[0m \u001b[0mexc_info\u001b[0m\u001b[0;34m=\u001b[0m\u001b[0;32mTrue\u001b[0m\u001b[0;34m)\u001b[0m\u001b[0;34m\u001b[0m\u001b[0;34m\u001b[0m\u001b[0m\n",
            "\u001b[0;31mKeyboardInterrupt\u001b[0m: Interrupted by user"
          ]
        }
      ]
    },
    {
      "cell_type": "markdown",
      "source": [
        "#**2-4**"
      ],
      "metadata": {
        "id": "Jueve__f3rsB"
      }
    },
    {
      "cell_type": "code",
      "source": [
        "s = input()\n",
        "d = input()\n",
        "count = 1\n",
        "for i in range(0,len(s),1):\n",
        "    i+=1\n",
        "    n = s[i:i+len(d)]\n",
        "    if n == d:\n",
        "        count += 1\n",
        "print(count)"
      ],
      "metadata": {
        "id": "qy_zAHNm3wYa"
      },
      "execution_count": null,
      "outputs": []
    },
    {
      "cell_type": "markdown",
      "source": [
        "#**HW3**"
      ],
      "metadata": {
        "id": "5G4GWsNK43No"
      }
    },
    {
      "cell_type": "markdown",
      "source": [
        "#**3-1**"
      ],
      "metadata": {
        "id": "is97N1CN47zB"
      }
    },
    {
      "cell_type": "code",
      "source": [
        "x=int(input())\n",
        "for i in range(x):\n",
        "    for j in range(i):\n",
        "        print(\" \",end=\"\")\n",
        "    for k in range(x-i):\n",
        "        print(\"*\",end=\"\")\n",
        "    print()\n"
      ],
      "metadata": {
        "id": "sb3LZe31486R"
      },
      "execution_count": null,
      "outputs": []
    },
    {
      "cell_type": "markdown",
      "source": [
        "#**3-2**"
      ],
      "metadata": {
        "id": "phi2nz9n49fq"
      }
    },
    {
      "cell_type": "code",
      "source": [
        "x=int(input())\n",
        "for i in range(x):\n",
        "    for j in range(x-i-1):\n",
        "        print(\" \",end=\"\")\n",
        "    for k in range(i+1):\n",
        "        print(\"*\",end=\"\")\n",
        "    print()"
      ],
      "metadata": {
        "id": "KHEMLFM64-Dv"
      },
      "execution_count": null,
      "outputs": []
    },
    {
      "cell_type": "markdown",
      "source": [
        "#**3-3**"
      ],
      "metadata": {
        "id": "f2dv-_ZW4-fD"
      }
    },
    {
      "cell_type": "code",
      "source": [
        "A=input(\"point1:\").split()\n",
        "B=input(\"point2:\").split()\n",
        "def get_distance(A,B):\n",
        "    X=(int(A[0])-int(B[0]))**2\n",
        "    Y=(int(A[1])-int(B[1]))**2\n",
        "    return (X+Y)**0.5\n",
        "ans = get_distance(A,B)\n",
        "print(ans)\n",
        "\n"
      ],
      "metadata": {
        "id": "Go1eFoc54-81"
      },
      "execution_count": null,
      "outputs": []
    },
    {
      "cell_type": "markdown",
      "source": [
        "#**3-4**"
      ],
      "metadata": {
        "id": "KJofL68T6dTA"
      }
    },
    {
      "cell_type": "code",
      "source": [
        "import random\n",
        "a = int(input(\"row\"))\n",
        "b = int(input(\"col\"))\n",
        "for i in range(a):\n",
        "    for i in range(b):\n",
        "        print(random.randint(1,20),end=\"\\t\")\n",
        "    print()"
      ],
      "metadata": {
        "id": "Ha6hhQzS6cbp"
      },
      "execution_count": null,
      "outputs": []
    },
    {
      "cell_type": "markdown",
      "source": [
        "#**HW4**"
      ],
      "metadata": {
        "id": "QMMtZHXe7gJz"
      }
    },
    {
      "cell_type": "markdown",
      "source": [
        "#**4-1**"
      ],
      "metadata": {
        "id": "fTJ0uPqY7f8b"
      }
    },
    {
      "cell_type": "code",
      "source": [
        "import numpy as np\n",
        "A = np.zeros((2,3))\n",
        "B = np.zeros((3,2))\n"
      ],
      "metadata": {
        "id": "lNREvzeb8JUq"
      },
      "execution_count": null,
      "outputs": []
    },
    {
      "cell_type": "code",
      "source": [
        "print(\"A:\")\n",
        "for i in range(2):\n",
        "  A[i,:] = np.array(list(map(lambda x: int(x), input().split())))\n",
        "print(\"B:\")\n",
        "for i in range(3):\n",
        "  B[i,:] = np.array(list(map(lambda x: int(x), input().split())))"
      ],
      "metadata": {
        "id": "VPZA7yyA8U4y",
        "colab": {
          "base_uri": "https://localhost:8080/"
        },
        "outputId": "67e4607a-07af-4d91-f8c9-bc17488528fd"
      },
      "execution_count": null,
      "outputs": [
        {
          "name": "stdout",
          "output_type": "stream",
          "text": [
            "A:\n",
            "2 3 5\n",
            "5 7 8\n",
            "B:\n",
            "1 2\n",
            "3 10\n",
            "2 6\n"
          ]
        }
      ]
    },
    {
      "cell_type": "code",
      "source": [
        "ans = np.matmul(A,B)\n",
        "print(ans)"
      ],
      "metadata": {
        "id": "fHr_Y3Ul_2gn",
        "colab": {
          "base_uri": "https://localhost:8080/"
        },
        "outputId": "aca8b8a9-4bcb-420e-892b-8455ffdedf95"
      },
      "execution_count": null,
      "outputs": [
        {
          "output_type": "stream",
          "name": "stdout",
          "text": [
            "[[ 21.  64.]\n",
            " [ 42. 128.]]\n"
          ]
        }
      ]
    },
    {
      "cell_type": "markdown",
      "source": [
        "#**4-2**"
      ],
      "metadata": {
        "id": "qj21x4NhAIMu"
      }
    },
    {
      "cell_type": "code",
      "source": [
        "import numpy as np\n",
        "A = np.zeros((1,10))\n",
        "B = np.zeros((1,10))\n",
        "C = np.zeros((1,10))"
      ],
      "metadata": {
        "id": "_skSiZsAANIk"
      },
      "execution_count": null,
      "outputs": []
    },
    {
      "cell_type": "code",
      "source": [
        "print(\"A:\")\n",
        "for i in range(1):\n",
        "  A[i,:] = np.array(list(map(lambda x: int(x), input().split())))\n",
        "print(\"B:\")\n",
        "for i in range(1):\n",
        "  B[i,:] = np.array(list(map(lambda x: int(x), input().split())))\n",
        "print(\"C:\")\n",
        "for i in range(1):\n",
        "  C[i,:] = np.array(list(map(lambda x: int(x), input().split())))"
      ],
      "metadata": {
        "colab": {
          "base_uri": "https://localhost:8080/"
        },
        "id": "RqnQjyUS3Nyt",
        "outputId": "1e368268-65fe-4a79-bf2e-65b571a74319"
      },
      "execution_count": null,
      "outputs": [
        {
          "name": "stdout",
          "output_type": "stream",
          "text": [
            "A:\n",
            "32 57 89 82 98 57 88 56 93 91\n",
            "B:\n",
            "32 57 89 82 98 57 88 56 93 91\n",
            "C:\n",
            "32 57 89 82 98 57 88 56 93 91\n"
          ]
        }
      ]
    },
    {
      "cell_type": "code",
      "source": [
        "print(np.sum(A),np.max(A))\n",
        "print(np.sum(B),np.max(B))\n",
        "print(np.sum(C),np.max(C))"
      ],
      "metadata": {
        "colab": {
          "base_uri": "https://localhost:8080/"
        },
        "id": "XkEpB2UM4zI_",
        "outputId": "288c8698-ff55-4263-e802-7a7249e8c0b6"
      },
      "execution_count": null,
      "outputs": [
        {
          "output_type": "stream",
          "name": "stdout",
          "text": [
            "743.0 98.0\n",
            "743.0 98.0\n",
            "743.0 98.0\n"
          ]
        }
      ]
    },
    {
      "cell_type": "markdown",
      "source": [
        "#**HW5**"
      ],
      "metadata": {
        "id": "ajGKkJ6JHFH9"
      }
    },
    {
      "cell_type": "code",
      "source": [
        "import numpy as np\n",
        "import matplotlib.pyplot as plt\n",
        "import pandas as pd"
      ],
      "metadata": {
        "id": "70WLHHQRHFbk"
      },
      "execution_count": null,
      "outputs": []
    },
    {
      "cell_type": "code",
      "source": [
        "data = pd.read_csv(\"https://raw.githubusercontent.com/ThousandAI/pycs4001/main/class06/Salary_Data.csv\")\n",
        "data.head()"
      ],
      "metadata": {
        "id": "zI8X3biFIVn2"
      },
      "execution_count": null,
      "outputs": []
    },
    {
      "cell_type": "code",
      "source": [
        "from sklearn.model_selection import train_test_split\n",
        "X = np.array(data[\"YearsExperience\"]).reshape(-1,1)\n",
        "Y = np.array(data[\"Salary\"]).reshape(-1,1)\n",
        "train_x, test_x, train_y, test_y  = train_test_split(X, Y, test_size=0.2, random_state=10)"
      ],
      "metadata": {
        "id": "rvlSnWLjIb-p"
      },
      "execution_count": null,
      "outputs": []
    },
    {
      "cell_type": "code",
      "source": [
        "from sklearn.preprocessing import StandardScaler\n",
        "scaler_x = StandardScaler()\n",
        "scaler_y = StandardScaler()\n",
        "\n",
        "sc_train_x = scaler_x.fit_transform(train_x)\n",
        "sc_train_y = scaler_y.fit_transform(train_y)"
      ],
      "metadata": {
        "id": "qA6NnvZSIiKQ"
      },
      "execution_count": null,
      "outputs": []
    },
    {
      "cell_type": "code",
      "source": [
        "from sklearn.linear_model import LinearRegression\n",
        "regression = LinearRegression()"
      ],
      "metadata": {
        "id": "4Sx-kNIVIjEn"
      },
      "execution_count": null,
      "outputs": []
    },
    {
      "cell_type": "code",
      "source": [
        "regression.fit(sc_train_x, sc_train_y)"
      ],
      "metadata": {
        "id": "JomSQvhqInzZ"
      },
      "execution_count": null,
      "outputs": []
    },
    {
      "cell_type": "code",
      "source": [
        "from sklearn.metrics import mean_squared_error\n",
        "sc_test_x = scaler_x.transform(test_x)\n",
        "sc_test_y = scaler_y.transform(test_y)\n",
        "y_hat = regression.predict(sc_test_x)\n",
        "print(f\"evaluation MSE: {mean_squared_error(sc_test_y, y_hat)}\")"
      ],
      "metadata": {
        "id": "gWiYuiB9IngE"
      },
      "execution_count": null,
      "outputs": []
    },
    {
      "cell_type": "code",
      "source": [
        "Y_hat = regression.predict(scaler_x.transform(X))\n",
        "Y_inv_hat = scaler_y.inverse_transform(Y_hat)\n",
        "plt.scatter(X, Y, s =3)\n",
        "plt.plot(X, Y_inv_hat, color=\"red\")\n",
        "plt.show()"
      ],
      "metadata": {
        "id": "kIOPwaQpIr3F"
      },
      "execution_count": null,
      "outputs": []
    },
    {
      "cell_type": "markdown",
      "source": [
        "#**HW6**"
      ],
      "metadata": {
        "id": "813QxAE3G91l"
      }
    },
    {
      "cell_type": "code",
      "source": [
        "import numpy as np\n",
        "import pandas as pd\n",
        "import matplotlib.pyplot as plt"
      ],
      "metadata": {
        "id": "2qRl1Qo3D715"
      },
      "execution_count": null,
      "outputs": []
    },
    {
      "cell_type": "code",
      "source": [
        "data = pd.read_csv(\"https://raw.githubusercontent.com/ThousandAI/pycs4001/main/class08/drug200.csv\")\n",
        "data.head(5)"
      ],
      "metadata": {
        "id": "lLn1qKNWD9Ef"
      },
      "execution_count": null,
      "outputs": []
    },
    {
      "cell_type": "code",
      "source": [
        "x = data.iloc[:,:-1]\n",
        "y = np.array(data.iloc[:,-1:])\n",
        "dummy_x = pd.get_dummies(x)\n",
        "dummy_x"
      ],
      "metadata": {
        "id": "_QWuJoNeEAPQ"
      },
      "execution_count": null,
      "outputs": []
    },
    {
      "cell_type": "code",
      "source": [
        "from sklearn.model_selection import train_test_split\n",
        "dummy_x = np.array(dummy_x)\n",
        "train_x, test_x, train_y, test_y = train_test_split(dummy_x, y, test_size=0.2, random_state=10)\n",
        "\n",
        "print(f\"train_x shape:  {train_x.shape}\")\n",
        "print(f\"test_x shape: {test_x.shape}\")"
      ],
      "metadata": {
        "id": "LJd3RLGrEDLl"
      },
      "execution_count": null,
      "outputs": []
    },
    {
      "cell_type": "code",
      "source": [
        "from sklearn.tree import DecisionTreeClassifier\n",
        "dc = DecisionTreeClassifier(criterion=\"entropy\", max_depth = 4, random_state=10)"
      ],
      "metadata": {
        "id": "uBKMwCAPEGRJ"
      },
      "execution_count": null,
      "outputs": []
    },
    {
      "cell_type": "code",
      "source": [
        "dc.fit(train_x, train_y)"
      ],
      "metadata": {
        "id": "EhwPYdpHELiv"
      },
      "execution_count": null,
      "outputs": []
    },
    {
      "cell_type": "code",
      "source": [
        "from sklearn import metrics\n",
        "y_pred = dc.predict(test_x)\n",
        "print(\"DecisionTree Accuracy: \", metrics.accuracy_score(test_y, y_pred))"
      ],
      "metadata": {
        "id": "K_w_VnmiFzkZ"
      },
      "execution_count": null,
      "outputs": []
    },
    {
      "cell_type": "code",
      "source": [
        "from sklearn import tree\n",
        "tree_plot_1 = tree.export_text(dc, feature_names=[\"Age\",\"Na_to_K\",\"Sex_F\",\"Sex_M\",\"BP_HIGH\",\"BP_LOW\",\n",
        "                                        \"BP_NORMAL\",\"Cholesterol_HIGH\",\"Cholesterol_NORMAL\"])\n",
        "print(tree_plot_1)"
      ],
      "metadata": {
        "id": "eZzWYImBGevr"
      },
      "execution_count": null,
      "outputs": []
    },
    {
      "cell_type": "code",
      "source": [
        "fig = plt.figure(figsize=(15,10))\n",
        "tree_plot_2 = tree.plot_tree(dc, feature_names=[\"Age\",\"Na_to_K\",\"Sex_F\",\"Sex_M\",\"BP_HIGH\",\"BP_LOW\",\n",
        "                                      \"BP_NORMAL\",\"Cholesterol_HIGH\",\"Cholesterol_NORMAL\"], \n",
        "                             class_names=[\"drugA\",\"drugB\",\"drugC\",\"drugX\",\"drugY\"], filled=True)\n",
        "print(tree_plot_2)"
      ],
      "metadata": {
        "id": "Cn70b8LlGhna"
      },
      "execution_count": null,
      "outputs": []
    },
    {
      "cell_type": "markdown",
      "source": [
        ""
      ],
      "metadata": {
        "id": "dTEcgTMRGnM9"
      }
    }
  ]
}